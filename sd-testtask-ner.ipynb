{
 "cells": [
  {
   "cell_type": "code",
   "execution_count": 1,
   "id": "03a3bd49-3c90-43f6-bb02-135c3622c40d",
   "metadata": {},
   "outputs": [],
   "source": [
    "import os\n",
    "import unittest\n",
    "\n",
    "import pandas as pd\n",
    "import numpy as np\n",
    "import matplotlib.pyplot as plt"
   ]
  },
  {
   "cell_type": "markdown",
   "id": "c2b7814b-00a4-48e9-ad32-7876707ef016",
   "metadata": {
    "jp-MarkdownHeadingCollapsed": true
   },
   "source": [
    "## Комментарий к выполнению тестового задания:"
   ]
  },
  {
   "cell_type": "markdown",
   "id": "419837df-59a2-4a11-a46b-9fbbb68fdcdb",
   "metadata": {},
   "source": [
    "На протяжении времени выполнения ТЗ я часто менял методы решения его пунктов. Я попробовал разные варианты и напишу их здесь. Скажите, пожалуйста, если я неправильно интерпретировал задачи, я быстро их переделаю(у меня есть все сохранения :) ).\n",
    "\n",
    "---\n",
    "\n",
    "Вариант 1:\n",
    "В задании 2: \"Реализуйте чтение датасета в pandas DataFrame с обязательными колонками \"document_id\", \"document_text\", \"entity\", \"gold_answer\".\"\n",
    "<br>Колонки 'entity', 'gold_answer' в единственном числе(а не entities и gold_answers), поэтому изначально я пошёл по этому пути и **выписывал каждый ответ и соответствующую ему entity построчно**.\n",
    "<br>В следствии, дойдя до 5го задания, которое требует расчёта метрик для оценки, столкнулся с тем, что, по сути, **типичные f-статистика, полнота и точность(precision) - не имеют особого смысла**, т.к. мы сравниваем один полный ответ с другим полным ответом и тут **логичнее использовать точность, в том смысле, что** каждую gold строку сравнивать с перебираемыми строками в pred(перебираемыми, потому что, по идеи, мы не будем каждый раз выписывать ответы LLM соответсвенно эталоном, хотя заполнение ответов LLM в соответствии с gold упростило бы сравнение) и впоследствии вычислять среднее значение для документа или сущности.\n",
    "\n",
    "---\n",
    "\n",
    "Вариант 2:\n",
    "Однако подумав(и спросив у квестгивера :) ), решил, что точность, в смысле, описанном выше, вряд ли подразумевалась и **следует использовать** типичную для задач извлечения именованных сущностей, **F-статистику**, тогда сагрегировал сущности(entity) и вывел к ним в соответствие строку с разделёнными ';' ответами. То же проделал для ответов gigachat и применил метрики: f-статистику, полноту и точность(precision). Тут мы уже сравниваем несколько ответов и данные метрики вполне подходят(ответ будет не 1 или 0, а именно что от 0.0 до 1.0).\n",
    "\n",
    "---"
   ]
  },
  {
   "cell_type": "markdown",
   "id": "9ae0e9fe-f850-431c-a2b0-eb9f6fdabc32",
   "metadata": {},
   "source": [
    "<details>\n",
    "  <summary>Стыд</summary>\n",
    "  там ещё технические шоколадки с векторной реализацией случились, самое интересное - там :)\n",
    "</details>"
   ]
  },
  {
   "cell_type": "markdown",
   "id": "601a1e54-09e2-4883-a261-b0f9991e9885",
   "metadata": {
    "jp-MarkdownHeadingCollapsed": true
   },
   "source": [
    "## Задание 1:"
   ]
  },
  {
   "cell_type": "markdown",
   "id": "d7e5ebb4-14e0-48f1-951f-535e6a87e636",
   "metadata": {},
   "source": [
    "**Опишите задачу с точки зрения NLP.\n",
    "<br>Что это за задача, какие классические методы существуют для ее решения?\n",
    "<br>Как ее можно решать через LLM?\n",
    "<br>Как обычно оценивают качество моделей в этой задаче?**\n",
    "\n",
    "---"
   ]
  },
  {
   "cell_type": "markdown",
   "id": "27daabca-ad3a-49ef-9b78-69d51ffed813",
   "metadata": {},
   "source": [
    "Задача распознавания именованных сущностей (Named Entity Recognition, NER) заключается в выявлении и категоризации отрезков текста, которые представляют собой имена собственные, такие как имена людей, названия организаций, географические объекты и другие.\n",
    "<br>Это одна из ключевых задач NLP, направленная на извлечение структурированной информации из неструктурированных текстов.\n",
    "\n",
    "Классический подход к решению задачи NER состоит в пословной разметке текста с использованием BIO-нотации. В этой системе:\n",
    "\n",
    "* B-метка (beginning) указывает на начало сущности,\n",
    "* I-метка (inside) отмечает слова внутри сущности,\n",
    "* O-метка (outside) используется для слов, не относящихся к сущностям.\n",
    "<br>BIO-нотация помогает точно определить границы именованных сущностей и их типы.\n",
    "\n",
    "Из текста: Илон Маск запустил ракету\n",
    "На выходе мы получим сущности в виде: [Категория сущности]-[Именованная сущность]\n",
    "<br>Например: PER-Elon-Musk\n",
    "\n",
    "---"
   ]
  },
  {
   "cell_type": "markdown",
   "id": "dd2159e1-fd4e-46a3-80be-3a78a7dc5ce2",
   "metadata": {},
   "source": [
    "Правильно составив запрос и описав задачу, можно обратиться к LLM, отдав ей на вход запрос с интересующими нас сущностями и их описанием, и текст для анализа, а получить список сущностей из текста.\n",
    "\n",
    "---"
   ]
  },
  {
   "cell_type": "markdown",
   "id": "dc193cbc-d7e0-4866-bac2-2bceae9d3e97",
   "metadata": {},
   "source": [
    "Обычно качество моделей оценивают с помощью точности, полноты и F-меры.\n",
    "* Единицей для расчета этих метрик считается сущность.\n",
    "* Точность определяется как отношение количества правильно распознанных сущностей и количества распознанных сущностей\n",
    "* Полнота – как отношение правильно распознанных сущностей и количества сущностей в золотом стандарте.\n",
    "* F-мера объединяет в себе две предыдущие метрики."
   ]
  },
  {
   "cell_type": "markdown",
   "id": "13ec1694-54e1-4c2f-a93c-a6ae1fd7eee0",
   "metadata": {
    "jp-MarkdownHeadingCollapsed": true
   },
   "source": [
    "## Задание 2:"
   ]
  },
  {
   "cell_type": "markdown",
   "id": "488cc44a-a98a-4db6-8552-cb3f1506a1bc",
   "metadata": {},
   "source": [
    "**Реализуйте чтение датасета в pandas DataFrame с обязательными колонками \"document_id\", \"document_text\", \"entity\", \"gold_answer\".\n",
    "<br>Выведите шапку датафрейма.**"
   ]
  },
  {
   "cell_type": "code",
   "execution_count": 2,
   "id": "24ef69ca-d5d1-450d-9a55-b8a133fa4be8",
   "metadata": {},
   "outputs": [],
   "source": [
    "# Пути к директориям\n",
    "raw_folder = 'sample_pl_cs_ru_bg/raw/ru'\n",
    "annotated_folder = 'sample_pl_cs_ru_bg/annotated/ru'"
   ]
  },
  {
   "cell_type": "code",
   "execution_count": 3,
   "id": "fbc6176e-bcb2-4861-9478-eeadb8e6f0c9",
   "metadata": {},
   "outputs": [],
   "source": [
    "# Список файлов\n",
    "raw_files = sorted([f for f in os.listdir(raw_folder) if f.endswith(\".txt\")])\n",
    "annotated_files = sorted([f for f in os.listdir(annotated_folder) if f.endswith(\".out\")])"
   ]
  },
  {
   "cell_type": "code",
   "execution_count": 4,
   "id": "d25b19c5-0b23-4487-b71d-0cea79cae74a",
   "metadata": {},
   "outputs": [],
   "source": [
    "# Список строк для DataFrame\n",
    "rows = []\n",
    "# Данные из файлов с ответами\n",
    "for annotated_file in annotated_files:\n",
    "    # Читаем файл\n",
    "    with open(os.path.join(annotated_folder, annotated_file), 'r', encoding='utf-8') as file:\n",
    "        lines = file.readlines()\n",
    "        # Определяем document_id (он указан в первой строке)\n",
    "        document_id = lines[0].strip() #strip - уберёт лишние пробелы\n",
    "\n",
    "        # Построчно извлекаем сущности и ответы(gold)\n",
    "        entities = {}\n",
    "        \n",
    "        for line in lines:\n",
    "            parts = line.split('\\t') # делим по табуляциям, т.к. в док-ах именно такое разделение\n",
    "            if len(parts) >= 4:  # Проверяем, что строка без пропусков\n",
    "                \n",
    "                entity = parts[2].strip()\n",
    "                gold = parts[3].strip()\n",
    "\n",
    "                # формируем пары сущность:ответы\n",
    "                if entity not in entities:\n",
    "                    entities[entity] = []\n",
    "                if gold not in entities[entity]:\n",
    "                    entities[entity].append(gold)\n",
    "\n",
    "        # Добавляем сущности и ответы в фрейм\n",
    "        for entity, golds in entities.items():\n",
    "            rows.append([\n",
    "                document_id,\n",
    "                None,  # document_text будет добавлен ниже\n",
    "                entity,\n",
    "                \"; \".join(golds)  # Объединяем ответы через \";\"\n",
    "            ])"
   ]
  },
  {
   "cell_type": "code",
   "execution_count": 5,
   "id": "59316672-4ac5-4188-a1c6-08d3d3188272",
   "metadata": {},
   "outputs": [],
   "source": [
    "# Данные из файлов с \"сырым\" текстом\n",
    "raw_texts = {}\n",
    "for raw_file in raw_files:\n",
    "    # Читаем файл\n",
    "    with open(os.path.join(raw_folder, raw_file), 'r', encoding='utf-8') as file:\n",
    "        lines = file.readlines()\n",
    "        # Определяем document_id из первой строки\n",
    "        document_id = lines[0].strip()\n",
    "        # Убираем первые 4 строки и записываем оставшийся текст\n",
    "        document_text = \"\".join(lines[4:]).strip()\n",
    "        # записываем в словарь\n",
    "        raw_texts[document_id] = document_text"
   ]
  },
  {
   "cell_type": "code",
   "execution_count": 6,
   "id": "12177600-f8ea-407f-bffa-92cc73c643c9",
   "metadata": {},
   "outputs": [],
   "source": [
    "# Создаём DataFrame\n",
    "df = pd.DataFrame(rows, columns=['document_id', 'document_text', 'entity', 'gold_answer']) # здесь же заполняем всё, кроме текста\n",
    "\n",
    "# Добавляем текст документа в соответствии с айди\n",
    "df['document_text'] = df['document_id'].map(raw_texts)"
   ]
  },
  {
   "cell_type": "code",
   "execution_count": 7,
   "id": "9f5d8d05-b821-4439-8eec-367e964d9c41",
   "metadata": {},
   "outputs": [
    {
     "data": {
      "text/html": [
       "<div>\n",
       "<style scoped>\n",
       "    .dataframe tbody tr th:only-of-type {\n",
       "        vertical-align: middle;\n",
       "    }\n",
       "\n",
       "    .dataframe tbody tr th {\n",
       "        vertical-align: top;\n",
       "    }\n",
       "\n",
       "    .dataframe thead th {\n",
       "        text-align: right;\n",
       "    }\n",
       "</style>\n",
       "<table border=\"1\" class=\"dataframe\">\n",
       "  <thead>\n",
       "    <tr style=\"text-align: right;\">\n",
       "      <th></th>\n",
       "      <th>document_id</th>\n",
       "      <th>document_text</th>\n",
       "      <th>entity</th>\n",
       "      <th>gold_answer</th>\n",
       "    </tr>\n",
       "  </thead>\n",
       "  <tbody>\n",
       "    <tr>\n",
       "      <th>0</th>\n",
       "      <td>ru-10</td>\n",
       "      <td>Тереза Мэй рассчитывает усидеть в седле до зав...</td>\n",
       "      <td>EVT</td>\n",
       "      <td>EVT-Brexit</td>\n",
       "    </tr>\n",
       "    <tr>\n",
       "      <th>1</th>\n",
       "      <td>ru-10</td>\n",
       "      <td>Тереза Мэй рассчитывает усидеть в седле до зав...</td>\n",
       "      <td>LOC</td>\n",
       "      <td>GPE-Great-Britain; GPE-Brussles; LOC-Europe; L...</td>\n",
       "    </tr>\n",
       "    <tr>\n",
       "      <th>2</th>\n",
       "      <td>ru-10</td>\n",
       "      <td>Тереза Мэй рассчитывает усидеть в седле до зав...</td>\n",
       "      <td>PER</td>\n",
       "      <td>PER-Boris-Johnson; PER-Michel-Barnier; PER-The...</td>\n",
       "    </tr>\n",
       "    <tr>\n",
       "      <th>3</th>\n",
       "      <td>ru-10</td>\n",
       "      <td>Тереза Мэй рассчитывает усидеть в седле до зав...</td>\n",
       "      <td>ORG</td>\n",
       "      <td>ORG-European-Union; ORG-European-Commission; O...</td>\n",
       "    </tr>\n",
       "    <tr>\n",
       "      <th>4</th>\n",
       "      <td>ru-1000</td>\n",
       "      <td>Подробности.ua: Третий за сутки: Борис Джонсон...</td>\n",
       "      <td>EVT</td>\n",
       "      <td>EVT-Brexit</td>\n",
       "    </tr>\n",
       "  </tbody>\n",
       "</table>\n",
       "</div>"
      ],
      "text/plain": [
       "  document_id                                      document_text entity  \\\n",
       "0       ru-10  Тереза Мэй рассчитывает усидеть в седле до зав...    EVT   \n",
       "1       ru-10  Тереза Мэй рассчитывает усидеть в седле до зав...    LOC   \n",
       "2       ru-10  Тереза Мэй рассчитывает усидеть в седле до зав...    PER   \n",
       "3       ru-10  Тереза Мэй рассчитывает усидеть в седле до зав...    ORG   \n",
       "4     ru-1000  Подробности.ua: Третий за сутки: Борис Джонсон...    EVT   \n",
       "\n",
       "                                         gold_answer  \n",
       "0                                         EVT-Brexit  \n",
       "1  GPE-Great-Britain; GPE-Brussles; LOC-Europe; L...  \n",
       "2  PER-Boris-Johnson; PER-Michel-Barnier; PER-The...  \n",
       "3  ORG-European-Union; ORG-European-Commission; O...  \n",
       "4                                         EVT-Brexit  "
      ]
     },
     "execution_count": 7,
     "metadata": {},
     "output_type": "execute_result"
    }
   ],
   "source": [
    "# Выводим \"шапку\" фрейма\n",
    "df.head()"
   ]
  },
  {
   "cell_type": "markdown",
   "id": "fcb28ba6-fb3e-4e0e-8b80-7f37dc447807",
   "metadata": {
    "jp-MarkdownHeadingCollapsed": true
   },
   "source": [
    "## Задание 3:"
   ]
  },
  {
   "cell_type": "markdown",
   "id": "134a97c8-b63b-4ef3-9a54-aa956f16ba00",
   "metadata": {},
   "source": [
    "**Напишите функцию, которая принимает на вход строку датафрейма и выдает текст входного сообщения для LLM.**\n",
    "\n",
    "---"
   ]
  },
  {
   "cell_type": "markdown",
   "id": "a4360d1d-e9c5-4287-a6c0-3e5a63c32f1f",
   "metadata": {},
   "source": [
    "**Функция:**"
   ]
  },
  {
   "cell_type": "code",
   "execution_count": 8,
   "id": "c5b23de8-bfaa-4768-b684-011cfa496093",
   "metadata": {},
   "outputs": [],
   "source": [
    "def create_llm_input_msg(row):\n",
    "    '''\n",
    "    Функция принимает на вход строку DataFrame и возвращает текст входного сообщения для LLM.\n",
    "    \n",
    "    Параметры:\n",
    "        row (pandas.Series): строка DataFrame, содержащая данные документа.\n",
    "        \n",
    "    Возвращает:\n",
    "        str: текст сообщения для LLM.\n",
    "    '''\n",
    "    msg = f'Задача: Извлечь из новостной статьи именованные сущности(NER - Named Entity Recognition).\\n'\n",
    "    msg += f'Категории сущностей: {row[\"entity\"]}\\n\\n'\n",
    "    msg += f'Вывод должен содержать ответ для каждой сущности, записанный построчно, в формате: [Категория сущности]-[Именованная сущность]\\n'\n",
    "    msg += f'Например: {row[\"gold_answer\"].split(';')[0]}\\n\\n' # используем только первый ответ, в качестве примера\n",
    "    msg += f'Важные условия:\\n1)Ответ должен быть на английском языке.\\n2)Если именованная сущность составная, т.е. разделена пробелами, то пробелы заменяй на дефисы(-).\\n\\n'\n",
    "    msg += f'Текст для анализа:\\n{row[\"document_text\"]}'\n",
    "    \n",
    "    return msg"
   ]
  },
  {
   "cell_type": "markdown",
   "id": "4425c19b-5797-4d0f-88b8-2a37548ab376",
   "metadata": {},
   "source": [
    "**Пример использования:**"
   ]
  },
  {
   "cell_type": "code",
   "execution_count": 9,
   "id": "dd851cf4-d50b-49b4-81fb-6b221ec0851e",
   "metadata": {},
   "outputs": [
    {
     "name": "stdout",
     "output_type": "stream",
     "text": [
      "Задача: Извлечь из новостной статьи именованные сущности(NER - Named Entity Recognition).\n",
      "Категории сущностей: EVT\n",
      "\n",
      "Вывод должен содержать ответ для каждой сущности, записанный построчно, в формате: [Категория сущности]-[Именованная сущность]\n",
      "Например: EVT-Brexit\n",
      "\n",
      "Важные условия:\n",
      "1)Ответ должен быть на английском языке.\n",
      "2)Если именованная сущность составная, т.е. разделена пробелами, то пробелы заменяй на дефисы(-).\n",
      "\n",
      "Текст для анализа:\n",
      "Тереза Мэй рассчитывает усидеть в седле до завершения процедуры Brexit\n",
      "\n",
      "Тем не менее, по сведениям британских СМИ, на предстоящей в конце сентября конференции партии тори противники Мэй навяжут ей серьезный бой, из которого не факт, что она выйдет победителем. Фаворит букмекеров в качестве возможного сменщика нынешнего премьера, бывший министр иностранных дел Британии Борис Джонсон намерен выступить с альтернативным докладом, который не оставит камня на камне от взглядов главы правительства на условия \"брекзита\". С точки зрения Джонсона, \"Лондон обернул британскую конституцию поясом смертника и вручил детонатор Мишелю Барнье (главному переговорщику Брюсселя по \"брекзиту\". - От ред.)\". С этой метафорой и предстоит сражаться на конференции главе правительства Альбиона.\n",
      "\n",
      "Ради будущего торгового договора с единой Европой Лондон действительно согласился на множество уступок. Во-первых, он заплатит Брюсселю 39 миллиардов фунтов стерлингов. Во-вторых, будет выполнять законы ЕС. И, наконец, самое неприятное - от Британии требуют, чтобы она оставила Северную Ирландию в составе таможенного союза единой Европы. Это означает, по мнению Джонсона, что Британия может потерять Северную Ирландию, поскольку их союз в любой момент окажется в состоянии разорвать Брюссель. Понятно, что для гордых англичан такая потенциальная зависимость выглядит неприемлемой, да и терять территории Соединенного Королевства тоже не хочется. \"Мы сумели низвести великий британский брексит до двух ужасающих вариантов - или мы раскалываем наш союз, или вся страна навсегда обязана выполнять европейские законы\", - с присущим ему пафосом восклицает Джонсон, обращаясь к однопартийцам. Он убежден, что действия нынешнего премьера означают, что Британия \"направилась к статусу колонии\", не получив ничего взамен от единой Европы. Чем ответит Мэй на эти обвинения, схожие по составу с государственной изменой, не ясно. Судя по ее выступлению в четверг на экстренном саммите Евросоюза в Брюсселе, британский премьер рассчитывает на значительные уступки со стороны бывших коллег по единой Европе. И не прочь пошантажировать их возможным приходом Джонсона к власти на Альбионе: ведь в этом случае Брюсселю придется иметь дело с непредсказуемым, \"идейным\" переговорщиком, с которым практически невозможно договориться полюбовно.\n",
      "\n",
      "При всей \"конспирологичности\" нельзя полностью исключать версию, что экс-глава британского МИДа закулисно договорился с Мэй. И теперь действует по классической схеме боевиков - в то время как Борис Джонсон на публике изображает \"плохого полицейского\", Мэй в глазах Евросоюза выглядит белой и пушистой овечкой. Этот план, если он действительно существует, срабатывает на пятерку - перед началом открывшегося в среду экстренного саммита Евросоюза австрийский канцлер Себастьян Курц заявил, что \"брекзит\" без сделки был бы для всех проигрышным\", и \"значительно лучше договориться\". А европейские СМИ, ссылаясь на свои источники, утверждают: в Брюсселе хотят \"спасти Терезу\" от возможной отставки на конференции Консервативной партии и ради этого пойдут на уступки Лондону. В противном случае избежать хаоса, который возникнет, если Джонсон займет кресло британского премьера, избежать не удастся. А вариант триумфального возвращения Джонсона в правительство исключать нельзя - в британских букмекерских конторах критикующий договоренности с Евросоюзом бывший министр иностранных дел считается кандидатом - фаворитом на пост премьера.\n",
      "\n",
      "Кстати, Мэй тоже не прочь попугать своих европейских собеседников. В частности, она заявила, что в Лондоне уже готовятся к возможному выходу из состава Евросоюза по жесткому сценарию, без соглашения. \"По некоторым вопросам будут серьезные трудности и для Британии, и для Евросоюза\", - равнодушно констатировала премьер. Однако эксперты Международного валютного фонда предполагают, что в случае такого сценария Лондон потеряет значительно больше, чем единая Европа. Пока политики по обе стороны Ла-Манша пытаются взять друг друга \"на слабо\", британский бизнес создает запасы европейских товаров, включая лекарственные препараты. Со своей стороны Еврокомиссия готовит пакет экстренных законов в области регулирования финансовых рынков. Впрочем, даже договорившись с руководством Евросоюза об условиях выхода Британии и благополучно пережив в качестве премьера конференцию тори, Мэй не может быть уверенной, что далее все пройдет гладко. Дело в том, что соглашение Лондона и Брюсселя предстоит утвердить Европейскому и британскому парламентам. А там достаточно горячих голов, готовых в пух и прах разнести выстраданный на длительных переговорах компромисс, который в конечном итоге не понравится на 100 процентов ни британцам, ни европейцам. Так, оппозиционные британские лейбористы уже заявили, что проголосуют против любой сделки с Брюсселем, которую предложит Мэй. Столь же непримиримо к достигнутым премьером компромиссам настроена часть консерваторов. Так что утверждение сделки с Евросоюзом в британском парламенте может в принципе не состояться. При этом сценарии экономическое, да и политическое будущее Альбиона выглядит непредсказуемым и весьма туманным. Впрочем, к подобным капризам погоды британцам не привыкать...\n"
     ]
    }
   ],
   "source": [
    "# Применяем функцию к первой строке\n",
    "print(create_llm_input_msg(df.iloc[0]))"
   ]
  },
  {
   "cell_type": "markdown",
   "id": "17e7b2f9-d637-4e10-beaa-44dccfbf9022",
   "metadata": {},
   "source": [
    "## Задание 4:"
   ]
  },
  {
   "cell_type": "markdown",
   "id": "d35644bb-7492-41ee-97a8-0b4b1b336b4c",
   "metadata": {},
   "source": [
    "**Получите ответы GigaChat для всех документов. Документов всего 9, поэтому сделать это можно вручную, пользуясь веб-интерфейсом GigaChat или ботом в ВК или Телеграме. Не очищайте историю сообщений, чтобы потом продемонстрировать подлинность ответов на онлайн-собеседовании.**\n",
    "\n",
    "**Внесите ответы GigaChat в датафрейм, сохраните его.**\n",
    "\n",
    "---"
   ]
  },
  {
   "cell_type": "markdown",
   "id": "e06303a6-15c5-411d-8692-b1b8fe55c496",
   "metadata": {},
   "source": [
    "**Пример запроса:**\n",
    "<br>*Категории сущностей описаны в виде краткой выдержки, из приложенного [\"гайда\"](https://bsnlp.cs.helsinki.fi/bsnlp-2019/Guidelines_20190122.pdf).*"
   ]
  },
  {
   "cell_type": "markdown",
   "id": "5e1c51be-9713-48b2-bc60-8eba84ef01da",
   "metadata": {},
   "source": [
    "```\n",
    "Задача: Извлечь из новостной статьи именованные сущности.\n",
    "\n",
    "Категории сущностей:\n",
    "   - PER (личность): Имена отдельных людей или семей, а также группы людей, связанные с геополитическими единицами. Не включать титулы, должности или функции. Например, \"Theresa May\" или \"Russians\" (в контексте граждан России).  \n",
    "   - LOC (местоположение): Географические объекты, включая города, страны, регионы, природные и искусственные сооружения (например, \"Łazienki Królewskie w Warszawie\" или \"Schiphol airport\"). Упоминания стран или геополитических единиц (GPE), таких как \"Poland\" или \"United States\", относятся к категории GPE.\n",
    "   - EVT (событие): Упоминания событий, таких как конференции, войны, катастрофы, а также будущие или вымышленные события. Например, \"Chernobyl catastrophe\" или \"Święta Bożego Narodzenia\".\n",
    "   - ORG (организация): Названия организаций, включая политические партии, компании, НПО, международные организации, спортивные команды и другие группы, такие как \"European Union\" или \"Citi Handlowy w Poznaniu\".\n",
    "   - PRO (продукт): Продукты, такие как электроника, автомобили, книги, фильмы, программное обеспечение и другие товары или услуги. Бренды и модели. Например, \"Motorola Moto Z Play\" или \"Harry Potter and the Sorcerer's Stone\".\n",
    "\n",
    "Вывод должен содержать ответ для каждой сущности, записанный построчно, в формате: [Категория сущности]-[Именованная сущность]\n",
    "\n",
    "Например:\n",
    "    PER-Theresa-May\n",
    "    GPE-Warsaw\n",
    "    LOC-Asia\n",
    "    EVT-Chernobyl-catastrophe\n",
    "    ORG-European-Union\n",
    "    PRO-Motorola\n",
    "\n",
    "Важные условия:\n",
    "   - Ответ должен быть на английском языке.\n",
    "   - Если именованная сущность составная, т.е. разделена пробелами, то пробелы заменяй на дефисы.\n",
    "\n",
    "Текст для анализа в прикреплённом файле brexit_ru.txt_file_10.txt.\n",
    "Используй только указанный файл.\n",
    "```"
   ]
  },
  {
   "cell_type": "markdown",
   "id": "fb2bf008-cb0d-48c7-a55c-def61ffff4c9",
   "metadata": {},
   "source": [
    "---"
   ]
  },
  {
   "cell_type": "markdown",
   "id": "7a3a2901-2720-4ef2-877b-091505171038",
   "metadata": {},
   "source": [
    "**Для загрузки ответов GigaChat решил написать функцию, хотя можно было и вручную всё это внести, подумал, что для каждого документа и каждой сущности вносить изменения будет долго:**"
   ]
  },
  {
   "cell_type": "code",
   "execution_count": 10,
   "id": "dceb1f8a-ec20-49b2-bdff-ff794f69de5a",
   "metadata": {},
   "outputs": [],
   "source": [
    "def upload_giga_answer(df, document_id, giga_answers):\n",
    "    \"\"\"\n",
    "    Добавляет ответы giga_answer в DataFrame, распределяя их по entity, включая записи GPE в LOC.\n",
    "\n",
    "    Параметры:\n",
    "        df (pd.DataFrame): DataFrame с колонками 'document_id', 'entity', 'gold_answer', 'giga_answer'.\n",
    "        document_id (str): Идентификатор документа, для которого добавляются ответы.\n",
    "        giga_answers (list): Список ответов (например, [\"PER-Theresa-May\", \"GPE-Britain\"]).\n",
    "        \n",
    "    Возвращает:\n",
    "        pd.DataFrame: Обновлённый DataFrame с заполненным столбцом 'giga_answer'.\n",
    "    \"\"\"\n",
    "    # Фильтруем строки для данного document_id\n",
    "    df_doc = df[df['document_id'] == document_id].copy()\n",
    "\n",
    "    #Словарь для хранения новых значений 'giga_answer'(сущности выбираем из исходного фрейма)\n",
    "    giga_dict = {entity: [] for entity in df_doc['entity'].unique()}\n",
    "\n",
    "    # Распределяем ответы из giga_answers по категориям (entity)\n",
    "    for answer in giga_answers:\n",
    "        entity_category = answer[:3]  # Первые три символа (категория сущности)\n",
    "        if entity_category in giga_dict:\n",
    "            giga_dict[entity_category].append(answer)\n",
    "        if entity_category == 'GPE' and 'LOC' in giga_dict:\n",
    "            giga_dict['LOC'].append(answer)  # Условие, которое учитывает, что ответы с GPE относятся к сущности LOC\n",
    "\n",
    "    # Преобразуем ответы в строки с разделителем - ';'\n",
    "    giga_dict = {key: \"; \".join(values) for key, values in giga_dict.items()}\n",
    "\n",
    "    # Записываем результаты в фрейм\n",
    "    for index, row in df_doc.iterrows():\n",
    "        entity = row['entity']\n",
    "        df.loc[index, 'giga_answer'] = giga_dict.get(entity, '')\n",
    "\n",
    "    return df"
   ]
  },
  {
   "cell_type": "markdown",
   "id": "1750c920-9d86-4de6-8df6-bf6d8ab9a984",
   "metadata": {
    "jp-MarkdownHeadingCollapsed": true
   },
   "source": [
    "### Внесение данных в фрейм:"
   ]
  },
  {
   "cell_type": "markdown",
   "id": "353ed008-0c71-4318-afa3-5a998c12f84f",
   "metadata": {},
   "source": [
    "*Забегая наперёд, я не смог добиться, чтобы giga_chat нашёл сущности PRO*"
   ]
  },
  {
   "cell_type": "code",
   "execution_count": 11,
   "id": "af2dd99a-2475-4b9c-b92c-a78e669fdbef",
   "metadata": {},
   "outputs": [],
   "source": [
    "giga_answer_10 = [\"PER-Theresa-May\", \"PER-Boris-Johnson\", \"GPE-Britain\", \"GPE-London\",  \"GPE-Brussels\", \"GPE-Northern-Ireland\", \"LOC-La-Manche\",\n",
    "                  \"EVT-Brexit\", \"EVT-Emergency-summit-of-the-EU\", \"EVT-Conference-of-the-Conservative-Party\", \"ORG-Conservative-Party\",\n",
    "                  \"ORG-European-Union\", \"ORG-International-Monetary-Fund\"]\n",
    "\n",
    "giga_answer_1000 = [\"PER-Boris-Johnson\", \"PER-Theresa-May\", \"PER-David-Davis\", \"PER-Steve-Baker\", \"GPE-United-Kingdom\", \"EVT-Resignation\",\n",
    "                    \"EVT-Negotiations-with-the-EU\", \"ORG-UK-Cabinet\", \"ORG-UK-Foreign-Office\", \"ORG-European-Union\"]\n",
    "\n",
    "giga_answer_1001 = [\"PER-Boris-Johnson\", \"PER-Theresa-May\", \"PER-Associated-Press\", \"GPE-United-Kingdom\", \"EVT-Resignation-of-Boris-Johnson\",\n",
    "                    \"EVT-Brexit\", \"ORG-UK-Government\", \"ORG-UK-Prime-Ministers-Office\"]\n",
    "\n",
    "giga_answer_1002 = [\"PER-Theresa-May\", \"PER-Boris-Johnson\", \"PER-David-Davis\", \"GPE-United-Kingdom\", \"EVT-Resignation\", \"EVT-Brexit\"]\n",
    "\n",
    "giga_answer_1003 = [\"PER-Boris-Johnson\", \"PER-Theresa-May\", \"PER-David-Davis\", \"GPE-United-Kingdom\", \"EVT-Resignation\", \"ORG-UK-Government\"]\n",
    "\n",
    "giga_answer_1004 = [\"PER-Boris-Johnson\", \"PER-Theresa-May\", \"PER-David-Davis\", \"GPE-United-Kingdom\", \"GPE-London\", \"LOC-Western-Balkans\",\n",
    "                    \"EVT-Resignation-of-Boris-Johnson\", \"EVT-Resignation-of-David-Davis\", \"EVT-Press-conference-in-London\",\n",
    "                    \"EVT-Summit-on-the-development-of-the-Western-Balkans-region\", \"ORG-UK-Government\", \"ORG-UK-Prime-Minister-s-Office\",\n",
    "                    \"ORG-Conservative-Party\"]\n",
    "\n",
    "giga_answer_1006 = [\"PER-Maria-Zakharova\", \"PER-Boris-Johnson\", \"PER-Theresa-May\", \"GPE-Russia\", \"EVT-Resignation-of-Boris-Johnson\",\n",
    "                    \"ORG-UK-Government\", \"ORG-European-Union\"]\n",
    "\n",
    "giga_answer_1011 = [\"PER-Boris-Johnson\", \"PER-Theresa-May\", \"PER-David-Davis\", \"GPE-United-Kingdom\", \"EVT-Resignation-of-Boris-Johnson\",\n",
    "                    \"EVT-Resignation-of-David-Davis\", \"EVT-Brexit\",  \"ORG-UK-Government\", \"ORG-Guardian\"]\n",
    "\n",
    "giga_answer_1017 = [\"PER-Boris-Johnson\", \"PER-Theresa-May\", \"PER-David-Davis\", \"PER-Steve-Baker\", \"GPE-United-Kingdom\", \"EVT-Resignation\",\n",
    "                    \"ORG-UK-Parliament\", \"ORG-UK-Government\"]"
   ]
  },
  {
   "cell_type": "code",
   "execution_count": 12,
   "id": "c84a7e58-ceb3-466c-84a3-bde10a7905f2",
   "metadata": {},
   "outputs": [],
   "source": [
    "df = upload_giga_answer(df, 'ru-10', giga_answer_10)\n",
    "df = upload_giga_answer(df, 'ru-1000', giga_answer_1000)\n",
    "df = upload_giga_answer(df, 'ru-1001', giga_answer_1001)\n",
    "df = upload_giga_answer(df, 'ru-1002', giga_answer_1002)\n",
    "df = upload_giga_answer(df, 'ru-1003', giga_answer_1003)\n",
    "df = upload_giga_answer(df, 'ru-1004', giga_answer_1004)\n",
    "df = upload_giga_answer(df, 'ru-1006', giga_answer_1006)\n",
    "df = upload_giga_answer(df, 'ru-1011', giga_answer_1011)\n",
    "df = upload_giga_answer(df, 'ru-1017', giga_answer_1017)"
   ]
  },
  {
   "cell_type": "code",
   "execution_count": 13,
   "id": "54b7914d-ff9f-4e7b-a14a-4416eb706fd5",
   "metadata": {},
   "outputs": [
    {
     "data": {
      "text/html": [
       "<div>\n",
       "<style scoped>\n",
       "    .dataframe tbody tr th:only-of-type {\n",
       "        vertical-align: middle;\n",
       "    }\n",
       "\n",
       "    .dataframe tbody tr th {\n",
       "        vertical-align: top;\n",
       "    }\n",
       "\n",
       "    .dataframe thead th {\n",
       "        text-align: right;\n",
       "    }\n",
       "</style>\n",
       "<table border=\"1\" class=\"dataframe\">\n",
       "  <thead>\n",
       "    <tr style=\"text-align: right;\">\n",
       "      <th></th>\n",
       "      <th>document_id</th>\n",
       "      <th>document_text</th>\n",
       "      <th>entity</th>\n",
       "      <th>gold_answer</th>\n",
       "      <th>giga_answer</th>\n",
       "    </tr>\n",
       "  </thead>\n",
       "  <tbody>\n",
       "    <tr>\n",
       "      <th>0</th>\n",
       "      <td>ru-10</td>\n",
       "      <td>Тереза Мэй рассчитывает усидеть в седле до зав...</td>\n",
       "      <td>EVT</td>\n",
       "      <td>EVT-Brexit</td>\n",
       "      <td>EVT-Brexit; EVT-Emergency-summit-of-the-EU; EV...</td>\n",
       "    </tr>\n",
       "    <tr>\n",
       "      <th>1</th>\n",
       "      <td>ru-10</td>\n",
       "      <td>Тереза Мэй рассчитывает усидеть в седле до зав...</td>\n",
       "      <td>LOC</td>\n",
       "      <td>GPE-Great-Britain; GPE-Brussles; LOC-Europe; L...</td>\n",
       "      <td>GPE-Britain; GPE-London; GPE-Brussels; GPE-Nor...</td>\n",
       "    </tr>\n",
       "    <tr>\n",
       "      <th>2</th>\n",
       "      <td>ru-10</td>\n",
       "      <td>Тереза Мэй рассчитывает усидеть в седле до зав...</td>\n",
       "      <td>PER</td>\n",
       "      <td>PER-Boris-Johnson; PER-Michel-Barnier; PER-The...</td>\n",
       "      <td>PER-Theresa-May; PER-Boris-Johnson</td>\n",
       "    </tr>\n",
       "    <tr>\n",
       "      <th>3</th>\n",
       "      <td>ru-10</td>\n",
       "      <td>Тереза Мэй рассчитывает усидеть в седле до зав...</td>\n",
       "      <td>ORG</td>\n",
       "      <td>ORG-European-Union; ORG-European-Commission; O...</td>\n",
       "      <td>ORG-Conservative-Party; ORG-European-Union; OR...</td>\n",
       "    </tr>\n",
       "  </tbody>\n",
       "</table>\n",
       "</div>"
      ],
      "text/plain": [
       "  document_id                                      document_text entity  \\\n",
       "0       ru-10  Тереза Мэй рассчитывает усидеть в седле до зав...    EVT   \n",
       "1       ru-10  Тереза Мэй рассчитывает усидеть в седле до зав...    LOC   \n",
       "2       ru-10  Тереза Мэй рассчитывает усидеть в седле до зав...    PER   \n",
       "3       ru-10  Тереза Мэй рассчитывает усидеть в седле до зав...    ORG   \n",
       "\n",
       "                                         gold_answer  \\\n",
       "0                                         EVT-Brexit   \n",
       "1  GPE-Great-Britain; GPE-Brussles; LOC-Europe; L...   \n",
       "2  PER-Boris-Johnson; PER-Michel-Barnier; PER-The...   \n",
       "3  ORG-European-Union; ORG-European-Commission; O...   \n",
       "\n",
       "                                         giga_answer  \n",
       "0  EVT-Brexit; EVT-Emergency-summit-of-the-EU; EV...  \n",
       "1  GPE-Britain; GPE-London; GPE-Brussels; GPE-Nor...  \n",
       "2                 PER-Theresa-May; PER-Boris-Johnson  \n",
       "3  ORG-Conservative-Party; ORG-European-Union; OR...  "
      ]
     },
     "execution_count": 13,
     "metadata": {},
     "output_type": "execute_result"
    }
   ],
   "source": [
    "# Проверяем результат\n",
    "df[df[\"document_id\"] == \"ru-10\"]"
   ]
  },
  {
   "cell_type": "markdown",
   "id": "d7974ef1-0e7b-4a0c-8caa-3d01282c7210",
   "metadata": {
    "jp-MarkdownHeadingCollapsed": true
   },
   "source": [
    "## Задание 5:"
   ]
  },
  {
   "cell_type": "markdown",
   "id": "93a21329-2d13-4a96-8d07-80c87d8622fb",
   "metadata": {},
   "source": [
    "**Реализуйте самостоятельно алгоритм для подсчета метрик score_fn(gold: str, pred: str) → float.\n",
    "<br>Можно пользоваться только библиотеками numpy, scipy, pandas.\n",
    "<br>Напишите юнит-тесты.\n",
    "<br>Возможно ли ускорить вычисление функции через векторную реализацию?\n",
    "<br>Поясните решение и обоснуйте, почему выбрали именно такую метрику.**"
   ]
  },
  {
   "cell_type": "markdown",
   "id": "2f5a7c0a-a6e6-46e1-8846-cc7d6d847a46",
   "metadata": {},
   "source": [
    "---"
   ]
  },
  {
   "cell_type": "markdown",
   "id": "dd65041d-1f7a-4edc-8a18-f7e171c798e9",
   "metadata": {},
   "source": [
    "**Выбор метрик:**"
   ]
  },
  {
   "cell_type": "markdown",
   "id": "6c17d687-16b0-4a6c-b050-a72516350430",
   "metadata": {},
   "source": [
    "[Типичными метриками](https://learn.microsoft.com/ru-ru/azure/ai-services/language-service/custom-named-entity-recognition/concepts/evaluation-metrics) для оценки моделей распознавания именованных сущностей является:\n",
    "\n",
    "* **Точность:** измеряет, насколько точна модель. Представляет собой соотношение между правильно определенными положительными (истинноположительными) результатами и всеми определенными положительными значениями. Метрика точности показывает, сколько из спрогнозированных сущностей правильно помечено метками.\n",
    "```Precision = #True_Positive / (#True_Positive + #False_Positive)```\n",
    "\n",
    "* **Полнота:** измеряет способность модели прогнозировать фактические положительные классы. Это отношение между спрогнозированными истинноположительными результатами и фактически помеченными значениями. Метрика полноты показывает, сколько из прогнозируемых сущностей определено верно.\n",
    "```Recall = #True_Positive / (#True_Positive + #False_Negatives)```\n",
    "\n",
    "* **F-мера:** зависит от точности и полноты. Она необходима при поиске баланса между точностью и полнотой.\n",
    "```F1 Score = 2 * Precision * Recall / (Precision + Recall)```\n",
    "\n",
    "В конечном счёте была **выбрана F-мера т.к. она учитывает и точность, и полноту**"
   ]
  },
  {
   "cell_type": "markdown",
   "id": "37f6739b-45e1-43ac-95ef-e03bbbe3139a",
   "metadata": {
    "jp-MarkdownHeadingCollapsed": true
   },
   "source": [
    "### Алгоритм подсчёта метрик:"
   ]
  },
  {
   "cell_type": "code",
   "execution_count": 14,
   "id": "4a2668e7-08e1-46cb-ad07-a77d148421ea",
   "metadata": {},
   "outputs": [],
   "source": [
    "def score_fn(gold: str, pred: str) -> float:\n",
    "    \"\"\"\n",
    "    Вычисляет F-метрику между эталонным текстом и предсказанным текстом.\n",
    "    \n",
    "    Параметры:\n",
    "        gold (str): Эталонный текст с сущностями.\n",
    "        pred (str): Предсказанный текст с сущностями.\n",
    "        \n",
    "    Возвращает:\n",
    "        float: Значение F-метрики.\n",
    "    \"\"\"\n",
    "    # Проверяем пустые строки\n",
    "    if not gold and not pred:\n",
    "        return 0.0\n",
    "    \n",
    "    # Разделяем сущности по разделителю \";\" и преобразуем в множества\n",
    "    gold_entities = set(gold.split(';')) if gold else set()\n",
    "    pred_entities = set(pred.split(';')) if pred else set()\n",
    "\n",
    "    # Убираем лишние пробелы из сущностей\n",
    "    gold_entities = {entity.strip() for entity in gold_entities}\n",
    "    pred_entities = {entity.strip() for entity in pred_entities}\n",
    "    \n",
    "    # Вычисляем TP, FP и FN\n",
    "    true_positive = len(gold_entities & pred_entities)\n",
    "    false_positive = len(pred_entities - gold_entities)\n",
    "    false_negative = len(gold_entities - pred_entities)\n",
    "    \n",
    "    # Вычисляем точность, полноту\n",
    "    precision = true_positive / (true_positive + false_positive) if (true_positive + false_positive) > 0 else 0\n",
    "    recall = true_positive / (true_positive + false_negative) if (true_positive + false_negative) > 0 else 0\n",
    "    \n",
    "    # F-метрика\n",
    "    if precision + recall == 0:\n",
    "        return 0.0\n",
    "    f_score = 2 * (precision * recall) / (precision + recall)\n",
    "    return f_score"
   ]
  },
  {
   "cell_type": "markdown",
   "id": "f4e0f482-4612-4067-ab69-2ebe91a22c38",
   "metadata": {},
   "source": [
    "**Применение:**"
   ]
  },
  {
   "cell_type": "code",
   "execution_count": 15,
   "id": "62eddf15-815d-4752-8eb5-649a07c1550c",
   "metadata": {},
   "outputs": [
    {
     "data": {
      "text/plain": [
       "0.4"
      ]
     },
     "execution_count": 15,
     "metadata": {},
     "output_type": "execute_result"
    }
   ],
   "source": [
    "gold = df.loc[3, 'gold_answer'] # сущность ORG для текста ru-10\n",
    "pred = df.loc[3, 'giga_answer']\n",
    "\n",
    "score_fn(gold, pred)"
   ]
  },
  {
   "cell_type": "markdown",
   "id": "ff7747e8-daf6-47c6-b17a-5b6a9a9f9e4a",
   "metadata": {
    "jp-MarkdownHeadingCollapsed": true
   },
   "source": [
    "### Юнит тесты:"
   ]
  },
  {
   "cell_type": "markdown",
   "id": "463256ed-8f40-4282-a88e-7ecbd0e9d271",
   "metadata": {},
   "source": [
    "* **test_full_match:** Проверка полного совпадения эталонного и предсказанного текста (F1 = 1.0).\n",
    "* **test_partial_match:** Проверка частичного совпадения (F1 между 0 и 1).\n",
    "* **test_no_match:** Проверка полного несовпадения (F1 = 0.0).\n",
    "* **test_empty_gold:** Проверка пустого эталонного текста (F1 = 0.0).\n",
    "* **test_empty_pred:** Проверка пустого предсказания (F1 = 0.0).\n",
    "* **test_empty_both:** Проверка пустых обоих текстов (F1 = 0.0).\n",
    "* **test_repeated_entities:** Проверка повторяющихся сущностей в эталоне, при которых F1 не меняется.\n",
    "* **test_gold_with_extra_spaces:** Проверка эталонного текста с лишними пробелами (F1 = 1.0).\n",
    "* **test_pred_with_extra_spaces:** Проверка предсказания с лишними пробелами (F1 = 1.0).\n",
    "* **test_both_with_extra_spaces:** Проверка обоих текстов с лишними пробелами (F1 = 1.0).\n",
    "* **test_mixed_spaces_and_match:** Проверка частичного совпадения с пробелами в эталоне и предсказании (F1 между 0 и 1)."
   ]
  },
  {
   "cell_type": "code",
   "execution_count": 16,
   "id": "6a345b99-f389-4ba2-a4e8-21362fec1628",
   "metadata": {},
   "outputs": [],
   "source": [
    "import unittest\n",
    "\n",
    "# Определяем тесты\n",
    "class TestScoreFn(unittest.TestCase):\n",
    "    \n",
    "    def test_full_match(self):\n",
    "        \"\"\"Полное совпадение: F1 = 1.0\"\"\"\n",
    "        gold = \"PER: Борис Джонсон; LOC: Великобритания\"\n",
    "        pred = \"PER: Борис Джонсон; LOC: Великобритания\"\n",
    "        self.assertAlmostEqual(score_fn(gold, pred), 1.0)\n",
    "\n",
    "    def test_partial_match(self):\n",
    "        \"\"\"Частичное совпадение: F1 между 0 и 1\"\"\"\n",
    "        gold = \"PER: Борис Джонсон; LOC: Великобритания\"\n",
    "        pred = \"PER: Борис Джонсон; LOC: Лондон\"\n",
    "        self.assertAlmostEqual(score_fn(gold, pred), 0.5)\n",
    "\n",
    "    def test_no_match(self):\n",
    "        \"\"\"Полное несовпадение: F1 = 0.0\"\"\"\n",
    "        gold = \"PER: Борис Джонсон; LOC: Великобритания\"\n",
    "        pred = \"ORG: ООН; EVT: Brexit\"\n",
    "        self.assertAlmostEqual(score_fn(gold, pred), 0.0)\n",
    "\n",
    "    def test_empty_gold(self):\n",
    "        \"\"\"Пустой эталон: F1 = 0.0\"\"\"\n",
    "        gold = \"\"\n",
    "        pred = \"PER: Борис Джонсон\"\n",
    "        self.assertAlmostEqual(score_fn(gold, pred), 0.0)\n",
    "\n",
    "    def test_empty_pred(self):\n",
    "        \"\"\"Пустое предсказание: F1 = 0.0\"\"\"\n",
    "        gold = \"PER: Борис Джонсон\"\n",
    "        pred = \"\"\n",
    "        self.assertAlmostEqual(score_fn(gold, pred), 0.0)\n",
    "\n",
    "    def test_empty_both(self):\n",
    "        \"\"\"Оба текста пусты: F1 = 0.0\"\"\"\n",
    "        gold = \"\"\n",
    "        pred = \"\"\n",
    "        self.assertAlmostEqual(score_fn(gold, pred), 0.0)\n",
    "\n",
    "    def test_repeated_entities(self):\n",
    "        \"\"\"Повторяющиеся сущности: F1 не изменяется\"\"\"\n",
    "        gold = \"PER: Борис Джонсон; PER: Борис Джонсон\"\n",
    "        pred = \"PER: Борис Джонсон\"\n",
    "        self.assertAlmostEqual(score_fn(gold, pred), 1.0)\n",
    "\n",
    "    def test_gold_with_extra_spaces(self):\n",
    "        \"\"\"Пробелы в эталоне: F1 = 1.0\"\"\"\n",
    "        gold = \"PER: Борис Джонсон ; LOC: Великобритания \"\n",
    "        pred = \"PER: Борис Джонсон; LOC: Великобритания\"\n",
    "        self.assertAlmostEqual(score_fn(gold, pred), 1.0)\n",
    "\n",
    "    def test_pred_with_extra_spaces(self):\n",
    "        \"\"\"Пробелы в предсказании: F1 = 1.0\"\"\"\n",
    "        gold = \"PER: Борис Джонсон; LOC: Великобритания\"\n",
    "        pred = \"PER: Борис Джонсон ; LOC: Великобритания \"\n",
    "        self.assertAlmostEqual(score_fn(gold, pred), 1.0)\n",
    "\n",
    "    def test_both_with_extra_spaces(self):\n",
    "        \"\"\"Пробелы в обоих текстах: F1 = 1.0\"\"\"\n",
    "        gold = \"PER: Борис Джонсон ; LOC: Великобритания \"\n",
    "        pred = \"PER: Борис Джонсон ; LOC: Великобритания \"\n",
    "        self.assertAlmostEqual(score_fn(gold, pred), 1.0)\n",
    "\n",
    "    def test_mixed_spaces_and_match(self):\n",
    "        \"\"\"Пробелы в эталоне и предсказании: F1 между 0 и 1\"\"\"\n",
    "        gold = \"PER: Борис Джонсон; LOC: Великобритания\"\n",
    "        pred = \"PER: Борис Джонсон ; LOC: Лондон\"\n",
    "        self.assertAlmostEqual(score_fn(gold, pred), 0.5)"
   ]
  },
  {
   "cell_type": "markdown",
   "id": "30fe306b-6d16-413e-837a-367f64232373",
   "metadata": {},
   "source": [
    "**Применение:**"
   ]
  },
  {
   "cell_type": "code",
   "execution_count": 17,
   "id": "14920dd0-852c-4312-80ef-accb3391cf96",
   "metadata": {},
   "outputs": [
    {
     "name": "stderr",
     "output_type": "stream",
     "text": [
      "...........\n",
      "----------------------------------------------------------------------\n",
      "Ran 11 tests in 0.008s\n",
      "\n",
      "OK\n"
     ]
    },
    {
     "data": {
      "text/plain": [
       "<unittest.runner.TextTestResult run=11 errors=0 failures=0>"
      ]
     },
     "execution_count": 17,
     "metadata": {},
     "output_type": "execute_result"
    }
   ],
   "source": [
    "unittest.TextTestRunner().run(unittest.TestLoader().loadTestsFromTestCase(TestScoreFn))# gpt сказал это верный запуск теста(остальные \"конфликтуют\")"
   ]
  },
  {
   "cell_type": "markdown",
   "id": "464688a5-4d45-45d3-9658-c1bdc8806c05",
   "metadata": {
    "jp-MarkdownHeadingCollapsed": true
   },
   "source": [
    "### Вычисление через векторы:"
   ]
  },
  {
   "cell_type": "markdown",
   "id": "f9e43bc8-b42d-44de-aad4-857892d8a5b6",
   "metadata": {},
   "source": [
    "*Преобразуем строки в массивы numpy и, с их помощью, вычисляем метрики*"
   ]
  },
  {
   "cell_type": "code",
   "execution_count": 18,
   "id": "69058d67-2fb3-4771-87a8-b0b4dbfe60d4",
   "metadata": {},
   "outputs": [],
   "source": [
    "def vector_score_fn(gold: str, pred: str) -> float:\n",
    "    \"\"\"\n",
    "    Вычисляет F-метрику между эталонным текстом и предсказанным текстом с использованием NumPy.\n",
    "\n",
    "    Параметры:\n",
    "        gold (str): Эталонный текст с сущностями.\n",
    "        pred (str): Предсказанный текст с сущностями.\n",
    "\n",
    "    Возвращает:\n",
    "        float: Значение F-метрики.\n",
    "    \"\"\"\n",
    "    # Проверяем пустые строки\n",
    "    if not gold and not pred:\n",
    "        return 0.0\n",
    "\n",
    "    # Разделяем сущности по \";\", убираем лишние пробелы и создаём векторы\n",
    "    gold_entities = np.array([entity.strip() for entity in gold.split(\";\")])\n",
    "    pred_entities = np.array([entity.strip() for entity in pred.split(\";\")])\n",
    "\n",
    "    # Проверяем, есть ли сущности\n",
    "    if gold_entities.size == 0 and pred_entities.size == 0:\n",
    "        return 0.0\n",
    "\n",
    "    # Вычисляем пересечение (True Positives)\n",
    "    true_positive = np.sum(np.isin(pred_entities, gold_entities))\n",
    "    # Вычисляем FP и FN\n",
    "    false_positive = np.sum(np.isin(pred_entities, gold_entities, invert=True))\n",
    "    false_negative = np.sum(np.isin(gold_entities, pred_entities, invert=True))\n",
    "\n",
    "    # Вычисляем точность и полноту\n",
    "    precision = true_positive / (true_positive + false_positive) if (true_positive + false_positive) > 0 else 0.0\n",
    "    recall = true_positive / (true_positive + false_negative) if (true_positive + false_negative) > 0 else 0.0\n",
    "\n",
    "    # Вычисляем F1-метрику\n",
    "    if precision + recall == 0:\n",
    "        return 0.0\n",
    "    \n",
    "    f1_score = 2 * (precision * recall) / (precision + recall)\n",
    "    return f1_score"
   ]
  },
  {
   "cell_type": "markdown",
   "id": "beffbe07-a018-4953-ad07-4cdc53b1dbbe",
   "metadata": {},
   "source": [
    "**Применение:**"
   ]
  },
  {
   "cell_type": "code",
   "execution_count": 19,
   "id": "1fbeb1a9-c510-4995-91b1-c3ac07fee3d5",
   "metadata": {},
   "outputs": [
    {
     "data": {
      "text/plain": [
       "np.float64(0.4)"
      ]
     },
     "execution_count": 19,
     "metadata": {},
     "output_type": "execute_result"
    }
   ],
   "source": [
    "vector_score_fn(gold, pred)"
   ]
  },
  {
   "cell_type": "markdown",
   "id": "135a2d81-ffbf-462e-8fa7-e11cc14ecdf3",
   "metadata": {},
   "source": [
    "*для последующего корректного сравнения, я посчитал важным, чтобы этапы в функциях соотвествовали друг другу*"
   ]
  },
  {
   "cell_type": "markdown",
   "id": "3ad9939d-d705-41aa-9c9c-99d7a48f9d48",
   "metadata": {
    "jp-MarkdownHeadingCollapsed": true
   },
   "source": [
    "### Сравнение скорости(тут смеятся):"
   ]
  },
  {
   "cell_type": "code",
   "execution_count": 20,
   "id": "3f9fc028-c22e-4e94-b9a8-ed9c657a4211",
   "metadata": {},
   "outputs": [
    {
     "name": "stdout",
     "output_type": "stream",
     "text": [
      "2.32 μs ± 20.5 ns per loop (mean ± std. dev. of 7 runs, 100,000 loops each)\n",
      "69.4 μs ± 8.73 μs per loop (mean ± std. dev. of 7 runs, 10,000 loops each)\n"
     ]
    }
   ],
   "source": [
    "%timeit score_fn(gold, pred)\n",
    "%timeit vector_score_fn(gold, pred)"
   ]
  },
  {
   "cell_type": "markdown",
   "id": "3cf48bea-3624-48ce-a8fb-2732fe99f3d9",
   "metadata": {},
   "source": [
    "**Вывод говорит о том, что реализация через векторы выполняется дольше, что противоречит самому смыслу существования NumPy.**\n",
    "\n",
    "*Сколько бы я не пытался, какие бы способы не применил и как бы сильно не достал gpt, у меня не получилось ускорить функцию векторизацией.*\n",
    "\n",
    "**Причину я не выяснил(и там, и там - последовательность строк, но в случае с векторами, над ними должны выполняться векторные операции, которые работают быстрее относительно обычных операций, но видимо, я что-то упустил..).**"
   ]
  },
  {
   "cell_type": "markdown",
   "id": "36a8fb36-2f4c-4338-9881-3df71ca941dd",
   "metadata": {},
   "source": [
    "---"
   ]
  },
  {
   "cell_type": "markdown",
   "id": "72c406cf-b9df-40e4-8bc7-59bd6e3c02ef",
   "metadata": {},
   "source": [
    "**Думал на больших наборах данных можно будет заметить увеличение скорости, но там всё ещё хуже, чем больше данных, тем кратно дольше выполняется расчёт..**"
   ]
  },
  {
   "cell_type": "code",
   "execution_count": 22,
   "id": "41531445-b40e-4c47-a4e5-b68ae11548e5",
   "metadata": {},
   "outputs": [
    {
     "name": "stdout",
     "output_type": "stream",
     "text": [
      "Время выполнения vector_score_fn: 20.073940 секунд\n",
      "Время выполнения score_fn: 0.617445 секунд\n",
      "Результаты совпадают: True\n"
     ]
    }
   ],
   "source": [
    "import time\n",
    "# Определяем тестовые данные\n",
    "test_data = [\n",
    "    (\"entity1; entity2; entity3\", \"entity2; entity3; entity4\"),\n",
    "    (\"entity1; entity2\", \"entity2; entity3\"),\n",
    "    (\"\", \"\"),\n",
    "    (\"entity1\", \"entity1\"),\n",
    "    (\"entity1; entity2; entity3\", \"\"),\n",
    "    (\"\", \"entity1; entity2\"),\n",
    "] * 100000  # Увеличиваем размер теста для более значимого сравнения\n",
    "\n",
    "# Сравнение производительности\n",
    "# Векторная функция\n",
    "start_time_vectorized = time.time()\n",
    "vector_results = [vector_score_fn(gold, pred) for gold, pred in test_data]\n",
    "end_time_vectorized = time.time()\n",
    "time_vectorized = end_time_vectorized - start_time_vectorized\n",
    "\n",
    "# Обычная функция\n",
    "start_time_set = time.time()\n",
    "set_results = [score_fn(gold, pred) for gold, pred in test_data]\n",
    "end_time_set = time.time()\n",
    "time_set = end_time_set - start_time_set\n",
    "\n",
    "# Вывод времени выполнения и корректности\n",
    "print(f\"Время выполнения vector_score_fn: {time_vectorized:.6f} секунд\")\n",
    "print(f\"Время выполнения score_fn: {time_set:.6f} секунд\")\n",
    "print(f\"Результаты совпадают: {vector_results == set_results}\")"
   ]
  },
  {
   "cell_type": "markdown",
   "id": "07db8910-d3f8-4cdd-b954-44b79eb05f64",
   "metadata": {},
   "source": [
    "**тут можно поиграться с наборами через рандом чойс, но думаю всё и так очевидно**"
   ]
  },
  {
   "cell_type": "markdown",
   "id": "e4192d30-857f-43de-9ea9-136d986f1cfd",
   "metadata": {
    "jp-MarkdownHeadingCollapsed": true
   },
   "source": [
    "## Задание 6"
   ]
  },
  {
   "cell_type": "markdown",
   "id": "a29022a2-9fbc-4aad-b537-2894c43d43e0",
   "metadata": {},
   "source": [
    "**Вычислите метрики для каждой строки в датафрейме. Сагрегируйте результаты а) по каждой сущности, б) по каждому документу. Изобразите результаты на графиках. Какие выводы можно сделать?**"
   ]
  },
  {
   "cell_type": "markdown",
   "id": "9d18f729-9b01-48eb-b5ee-f96881b8b979",
   "metadata": {},
   "source": [
    "---"
   ]
  },
  {
   "cell_type": "markdown",
   "id": "51de3fe9-7ab4-438c-98e1-410d3549e7fd",
   "metadata": {
    "jp-MarkdownHeadingCollapsed": true
   },
   "source": [
    "### Вычисление метрик для каждой строки:\n"
   ]
  },
  {
   "cell_type": "code",
   "execution_count": 23,
   "id": "c744d275-6fd9-40d2-b3dd-ffb76071f573",
   "metadata": {},
   "outputs": [],
   "source": [
    "df['score'] = df.apply(lambda row: score_fn(row['gold_answer'], row['giga_answer']), axis=1)"
   ]
  },
  {
   "cell_type": "code",
   "execution_count": 24,
   "id": "a9b1c5c7-8ab7-49f0-b155-dfe79cad5e69",
   "metadata": {},
   "outputs": [
    {
     "data": {
      "text/html": [
       "<div>\n",
       "<style scoped>\n",
       "    .dataframe tbody tr th:only-of-type {\n",
       "        vertical-align: middle;\n",
       "    }\n",
       "\n",
       "    .dataframe tbody tr th {\n",
       "        vertical-align: top;\n",
       "    }\n",
       "\n",
       "    .dataframe thead th {\n",
       "        text-align: right;\n",
       "    }\n",
       "</style>\n",
       "<table border=\"1\" class=\"dataframe\">\n",
       "  <thead>\n",
       "    <tr style=\"text-align: right;\">\n",
       "      <th></th>\n",
       "      <th>document_id</th>\n",
       "      <th>document_text</th>\n",
       "      <th>entity</th>\n",
       "      <th>gold_answer</th>\n",
       "      <th>giga_answer</th>\n",
       "      <th>score</th>\n",
       "    </tr>\n",
       "  </thead>\n",
       "  <tbody>\n",
       "    <tr>\n",
       "      <th>4</th>\n",
       "      <td>ru-1000</td>\n",
       "      <td>Подробности.ua: Третий за сутки: Борис Джонсон...</td>\n",
       "      <td>EVT</td>\n",
       "      <td>EVT-Brexit</td>\n",
       "      <td>EVT-Resignation; EVT-Negotiations-with-the-EU</td>\n",
       "      <td>0.000000</td>\n",
       "    </tr>\n",
       "    <tr>\n",
       "      <th>5</th>\n",
       "      <td>ru-1000</td>\n",
       "      <td>Подробности.ua: Третий за сутки: Борис Джонсон...</td>\n",
       "      <td>PRO</td>\n",
       "      <td>PRO-The-Guardian; PRO-Podrobnosti</td>\n",
       "      <td></td>\n",
       "      <td>0.000000</td>\n",
       "    </tr>\n",
       "    <tr>\n",
       "      <th>6</th>\n",
       "      <td>ru-1000</td>\n",
       "      <td>Подробности.ua: Третий за сутки: Борис Джонсон...</td>\n",
       "      <td>PER</td>\n",
       "      <td>PER-Boris-Johnson; PER-David-Davis; PER-Steve-...</td>\n",
       "      <td>PER-Boris-Johnson; PER-Theresa-May; PER-David-...</td>\n",
       "      <td>1.000000</td>\n",
       "    </tr>\n",
       "    <tr>\n",
       "      <th>7</th>\n",
       "      <td>ru-1000</td>\n",
       "      <td>Подробности.ua: Третий за сутки: Борис Джонсон...</td>\n",
       "      <td>LOC</td>\n",
       "      <td>GPE-Great-Britain</td>\n",
       "      <td>GPE-United-Kingdom</td>\n",
       "      <td>0.000000</td>\n",
       "    </tr>\n",
       "    <tr>\n",
       "      <th>8</th>\n",
       "      <td>ru-1000</td>\n",
       "      <td>Подробности.ua: Третий за сутки: Борис Джонсон...</td>\n",
       "      <td>ORG</td>\n",
       "      <td>ORG-European-Union; ORG-Foreign-Office; ORG-UNN</td>\n",
       "      <td>ORG-UK-Cabinet; ORG-UK-Foreign-Office; ORG-Eur...</td>\n",
       "      <td>0.333333</td>\n",
       "    </tr>\n",
       "  </tbody>\n",
       "</table>\n",
       "</div>"
      ],
      "text/plain": [
       "  document_id                                      document_text entity  \\\n",
       "4     ru-1000  Подробности.ua: Третий за сутки: Борис Джонсон...    EVT   \n",
       "5     ru-1000  Подробности.ua: Третий за сутки: Борис Джонсон...    PRO   \n",
       "6     ru-1000  Подробности.ua: Третий за сутки: Борис Джонсон...    PER   \n",
       "7     ru-1000  Подробности.ua: Третий за сутки: Борис Джонсон...    LOC   \n",
       "8     ru-1000  Подробности.ua: Третий за сутки: Борис Джонсон...    ORG   \n",
       "\n",
       "                                         gold_answer  \\\n",
       "4                                         EVT-Brexit   \n",
       "5                  PRO-The-Guardian; PRO-Podrobnosti   \n",
       "6  PER-Boris-Johnson; PER-David-Davis; PER-Steve-...   \n",
       "7                                  GPE-Great-Britain   \n",
       "8    ORG-European-Union; ORG-Foreign-Office; ORG-UNN   \n",
       "\n",
       "                                         giga_answer     score  \n",
       "4      EVT-Resignation; EVT-Negotiations-with-the-EU  0.000000  \n",
       "5                                                     0.000000  \n",
       "6  PER-Boris-Johnson; PER-Theresa-May; PER-David-...  1.000000  \n",
       "7                                 GPE-United-Kingdom  0.000000  \n",
       "8  ORG-UK-Cabinet; ORG-UK-Foreign-Office; ORG-Eur...  0.333333  "
      ]
     },
     "execution_count": 24,
     "metadata": {},
     "output_type": "execute_result"
    }
   ],
   "source": [
    "df[df[\"document_id\"] == \"ru-1000\"]"
   ]
  },
  {
   "cell_type": "markdown",
   "id": "deae2d74-b313-4b5d-a0f2-e317e43f5917",
   "metadata": {},
   "source": [
    "### Агрегация:"
   ]
  },
  {
   "cell_type": "code",
   "execution_count": 25,
   "id": "809d08cc-e98b-4778-8d6e-d9017eedcc70",
   "metadata": {},
   "outputs": [
    {
     "name": "stdout",
     "output_type": "stream",
     "text": [
      "Агрегация по каждой сущности:\n"
     ]
    },
    {
     "data": {
      "text/html": [
       "<div>\n",
       "<style scoped>\n",
       "    .dataframe tbody tr th:only-of-type {\n",
       "        vertical-align: middle;\n",
       "    }\n",
       "\n",
       "    .dataframe tbody tr th {\n",
       "        vertical-align: top;\n",
       "    }\n",
       "\n",
       "    .dataframe thead th {\n",
       "        text-align: right;\n",
       "    }\n",
       "</style>\n",
       "<table border=\"1\" class=\"dataframe\">\n",
       "  <thead>\n",
       "    <tr style=\"text-align: right;\">\n",
       "      <th></th>\n",
       "      <th>entity</th>\n",
       "      <th>score</th>\n",
       "    </tr>\n",
       "  </thead>\n",
       "  <tbody>\n",
       "    <tr>\n",
       "      <th>0</th>\n",
       "      <td>EVT</td>\n",
       "      <td>0.259259</td>\n",
       "    </tr>\n",
       "    <tr>\n",
       "      <th>1</th>\n",
       "      <td>LOC</td>\n",
       "      <td>0.072150</td>\n",
       "    </tr>\n",
       "    <tr>\n",
       "      <th>2</th>\n",
       "      <td>ORG</td>\n",
       "      <td>0.081481</td>\n",
       "    </tr>\n",
       "    <tr>\n",
       "      <th>3</th>\n",
       "      <td>PER</td>\n",
       "      <td>0.903704</td>\n",
       "    </tr>\n",
       "    <tr>\n",
       "      <th>4</th>\n",
       "      <td>PRO</td>\n",
       "      <td>0.000000</td>\n",
       "    </tr>\n",
       "  </tbody>\n",
       "</table>\n",
       "</div>"
      ],
      "text/plain": [
       "  entity     score\n",
       "0    EVT  0.259259\n",
       "1    LOC  0.072150\n",
       "2    ORG  0.081481\n",
       "3    PER  0.903704\n",
       "4    PRO  0.000000"
      ]
     },
     "execution_count": 25,
     "metadata": {},
     "output_type": "execute_result"
    }
   ],
   "source": [
    "# Агрегация по каждой сущности\n",
    "ent_agg = df.groupby('entity')['score'].mean().reset_index()\n",
    "\n",
    "print(\"Агрегация по каждой сущности:\")\n",
    "ent_agg"
   ]
  },
  {
   "cell_type": "code",
   "execution_count": 26,
   "id": "e4d29fbf-d440-49c9-97b4-92fa7d1e885c",
   "metadata": {},
   "outputs": [
    {
     "name": "stdout",
     "output_type": "stream",
     "text": [
      "Агрегация по каждому документу:\n"
     ]
    },
    {
     "data": {
      "text/html": [
       "<div>\n",
       "<style scoped>\n",
       "    .dataframe tbody tr th:only-of-type {\n",
       "        vertical-align: middle;\n",
       "    }\n",
       "\n",
       "    .dataframe tbody tr th {\n",
       "        vertical-align: top;\n",
       "    }\n",
       "\n",
       "    .dataframe thead th {\n",
       "        text-align: right;\n",
       "    }\n",
       "</style>\n",
       "<table border=\"1\" class=\"dataframe\">\n",
       "  <thead>\n",
       "    <tr style=\"text-align: right;\">\n",
       "      <th></th>\n",
       "      <th>document_id</th>\n",
       "      <th>score</th>\n",
       "    </tr>\n",
       "  </thead>\n",
       "  <tbody>\n",
       "    <tr>\n",
       "      <th>0</th>\n",
       "      <td>ru-10</td>\n",
       "      <td>0.482576</td>\n",
       "    </tr>\n",
       "    <tr>\n",
       "      <th>1</th>\n",
       "      <td>ru-1000</td>\n",
       "      <td>0.266667</td>\n",
       "    </tr>\n",
       "    <tr>\n",
       "      <th>2</th>\n",
       "      <td>ru-1001</td>\n",
       "      <td>0.366667</td>\n",
       "    </tr>\n",
       "    <tr>\n",
       "      <th>3</th>\n",
       "      <td>ru-1002</td>\n",
       "      <td>0.416667</td>\n",
       "    </tr>\n",
       "    <tr>\n",
       "      <th>4</th>\n",
       "      <td>ru-1003</td>\n",
       "      <td>0.250000</td>\n",
       "    </tr>\n",
       "    <tr>\n",
       "      <th>5</th>\n",
       "      <td>ru-1004</td>\n",
       "      <td>0.321429</td>\n",
       "    </tr>\n",
       "    <tr>\n",
       "      <th>6</th>\n",
       "      <td>ru-1006</td>\n",
       "      <td>0.133333</td>\n",
       "    </tr>\n",
       "    <tr>\n",
       "      <th>7</th>\n",
       "      <td>ru-1011</td>\n",
       "      <td>0.300000</td>\n",
       "    </tr>\n",
       "    <tr>\n",
       "      <th>8</th>\n",
       "      <td>ru-1017</td>\n",
       "      <td>0.200000</td>\n",
       "    </tr>\n",
       "  </tbody>\n",
       "</table>\n",
       "</div>"
      ],
      "text/plain": [
       "  document_id     score\n",
       "0       ru-10  0.482576\n",
       "1     ru-1000  0.266667\n",
       "2     ru-1001  0.366667\n",
       "3     ru-1002  0.416667\n",
       "4     ru-1003  0.250000\n",
       "5     ru-1004  0.321429\n",
       "6     ru-1006  0.133333\n",
       "7     ru-1011  0.300000\n",
       "8     ru-1017  0.200000"
      ]
     },
     "execution_count": 26,
     "metadata": {},
     "output_type": "execute_result"
    }
   ],
   "source": [
    "# Агрегация по каждому документу\n",
    "doc_agg = df.groupby('document_id')['score'].mean().reset_index()\n",
    "\n",
    "print(\"Агрегация по каждому документу:\")\n",
    "doc_agg"
   ]
  },
  {
   "cell_type": "markdown",
   "id": "6ac94b1c-92fb-43f4-be36-3344ce892044",
   "metadata": {
    "jp-MarkdownHeadingCollapsed": true
   },
   "source": [
    "### Визуализация:"
   ]
  },
  {
   "cell_type": "code",
   "execution_count": 27,
   "id": "571b4078-cee9-4336-8b7e-fdd643d33039",
   "metadata": {},
   "outputs": [
    {
     "data": {
      "image/png": "[encoded data removed]",
      "text/plain": [
       "<Figure size 1200x600 with 1 Axes>"
      ]
     },
     "metadata": {},
     "output_type": "display_data"
    },
    {
     "data": {
      "image/png": "[encoded data removed]",
      "text/plain": [
       "<Figure size 1200x600 with 1 Axes>"
      ]
     },
     "metadata": {},
     "output_type": "display_data"
    }
   ],
   "source": [
    "# График 1: По каждой сущности\n",
    "ent_agg.plot(kind=\"bar\", x='entity', y='score', figsize=(12, 6), legend=False)\n",
    "plt.title(\"Агрегация по каждой сущности\")\n",
    "plt.ylabel(\"F-метрика\")\n",
    "plt.xlabel(\"Сущности\")\n",
    "plt.xticks(rotation=90)\n",
    "plt.tight_layout()\n",
    "plt.show()\n",
    "\n",
    "# График 2: По каждому документу\n",
    "doc_agg.plot(kind=\"bar\", x='document_id', y='score', figsize=(12, 6), legend=False)\n",
    "plt.title(\"Агрегация по каждому документу\")\n",
    "plt.ylabel(\"F-метрика\")\n",
    "plt.xlabel(\"Документы\")\n",
    "plt.tight_layout()\n",
    "plt.show()"
   ]
  },
  {
   "cell_type": "markdown",
   "id": "ef53a5aa-64ce-474a-b8d6-b96b4f5f156e",
   "metadata": {
    "jp-MarkdownHeadingCollapsed": true
   },
   "source": [
    "### Выводы:"
   ]
  },
  {
   "cell_type": "markdown",
   "id": "65bd1201-1c3f-4e53-bc51-bb81a0f0917a",
   "metadata": {},
   "source": [
    "* **Лучшую точность** модель демонстрирует для определения сущностей **PER(person, личность)**.\n",
    "* **Худшую - ORG(организации)**, организации бывают составными, например EU и European-Union одно и то же, но нам важно полное совпадение\n",
    "* Модель **совсем не смогла обнаружить PRO**(товары, бренды), потому что классифицировала 'Guardian' как организацию.\n",
    "\n",
    "---\n",
    "\n",
    "* Лучшую, точность модель демпонстрирует для определения сущностей в документе **'ru-10'**, говоря честно, я просто немного \"попытал\" гигачат(\"если пытать данные достаточно долго..\"), а иначе он выдавал 5 ответов для каждого текста. Возможно это ещё связано с тем, что текст из этого документа большой и не входит в промпт, поэтому я загружал в модель файл.\n",
    "* **'ru-1002'** - второй, но т.к. это связано с тем, что он сам по себе содержит меньше всего текста, соответственно и меньше сущностей. А это значит, что оценка недостаточно корректна."
   ]
  },
  {
   "cell_type": "markdown",
   "id": "e4b88bcb-9484-4ee7-b575-915b0396aed2",
   "metadata": {
    "jp-MarkdownHeadingCollapsed": true
   },
   "source": [
    "## Задание 7:"
   ]
  },
  {
   "cell_type": "markdown",
   "id": "05f0e59b-e0fb-47da-ba22-318a7f1f219a",
   "metadata": {},
   "source": [
    "**Есть ли зависимость метрик от длины документа? Постройте графики, чтобы ответить на вопрос.**\n",
    "\n",
    "---"
   ]
  },
  {
   "cell_type": "code",
   "execution_count": 28,
   "id": "6ac89fdc-85e4-462a-9b8a-ad044775d5d3",
   "metadata": {},
   "outputs": [
    {
     "data": {
      "text/html": [
       "<div>\n",
       "<style scoped>\n",
       "    .dataframe tbody tr th:only-of-type {\n",
       "        vertical-align: middle;\n",
       "    }\n",
       "\n",
       "    .dataframe tbody tr th {\n",
       "        vertical-align: top;\n",
       "    }\n",
       "\n",
       "    .dataframe thead th {\n",
       "        text-align: right;\n",
       "    }\n",
       "</style>\n",
       "<table border=\"1\" class=\"dataframe\">\n",
       "  <thead>\n",
       "    <tr style=\"text-align: right;\">\n",
       "      <th></th>\n",
       "      <th>document_id</th>\n",
       "      <th>score</th>\n",
       "      <th>document_length</th>\n",
       "    </tr>\n",
       "  </thead>\n",
       "  <tbody>\n",
       "    <tr>\n",
       "      <th>0</th>\n",
       "      <td>ru-10</td>\n",
       "      <td>0.482576</td>\n",
       "      <td>5160</td>\n",
       "    </tr>\n",
       "    <tr>\n",
       "      <th>1</th>\n",
       "      <td>ru-1000</td>\n",
       "      <td>0.266667</td>\n",
       "      <td>879</td>\n",
       "    </tr>\n",
       "    <tr>\n",
       "      <th>2</th>\n",
       "      <td>ru-1001</td>\n",
       "      <td>0.366667</td>\n",
       "      <td>690</td>\n",
       "    </tr>\n",
       "    <tr>\n",
       "      <th>3</th>\n",
       "      <td>ru-1002</td>\n",
       "      <td>0.416667</td>\n",
       "      <td>436</td>\n",
       "    </tr>\n",
       "    <tr>\n",
       "      <th>4</th>\n",
       "      <td>ru-1003</td>\n",
       "      <td>0.250000</td>\n",
       "      <td>491</td>\n",
       "    </tr>\n",
       "    <tr>\n",
       "      <th>5</th>\n",
       "      <td>ru-1004</td>\n",
       "      <td>0.321429</td>\n",
       "      <td>1088</td>\n",
       "    </tr>\n",
       "    <tr>\n",
       "      <th>6</th>\n",
       "      <td>ru-1006</td>\n",
       "      <td>0.133333</td>\n",
       "      <td>839</td>\n",
       "    </tr>\n",
       "    <tr>\n",
       "      <th>7</th>\n",
       "      <td>ru-1011</td>\n",
       "      <td>0.300000</td>\n",
       "      <td>1641</td>\n",
       "    </tr>\n",
       "    <tr>\n",
       "      <th>8</th>\n",
       "      <td>ru-1017</td>\n",
       "      <td>0.200000</td>\n",
       "      <td>955</td>\n",
       "    </tr>\n",
       "  </tbody>\n",
       "</table>\n",
       "</div>"
      ],
      "text/plain": [
       "  document_id     score  document_length\n",
       "0       ru-10  0.482576             5160\n",
       "1     ru-1000  0.266667              879\n",
       "2     ru-1001  0.366667              690\n",
       "3     ru-1002  0.416667              436\n",
       "4     ru-1003  0.250000              491\n",
       "5     ru-1004  0.321429             1088\n",
       "6     ru-1006  0.133333              839\n",
       "7     ru-1011  0.300000             1641\n",
       "8     ru-1017  0.200000              955"
      ]
     },
     "execution_count": 28,
     "metadata": {},
     "output_type": "execute_result"
    }
   ],
   "source": [
    "# Агрегируем данные по document_id (тут можно было бы использовать doc_agg из прошлого задания, но чтобы не путаться создали новый)\n",
    "doc_scores = df.groupby(\"document_id\")[\"score\"].mean().reset_index()\n",
    "\n",
    "# Для каждого document_id берем первый текст(он в каждой строке документа одинаков)\n",
    "doc_lengths = df.groupby(\"document_id\")[\"document_text\"].first().reset_index()\n",
    "\n",
    "# Рассчитываем длину текста для каждого документа\n",
    "doc_lengths['document_length'] = doc_lengths['document_text'].apply(len)\n",
    "\n",
    "# Объединяем id, метрики и длину текста в один фрейм по doc id\n",
    "doc_data = pd.merge(doc_scores, doc_lengths[['document_id', 'document_length']], on=\"document_id\")\n",
    "\n",
    "doc_data"
   ]
  },
  {
   "cell_type": "code",
   "execution_count": 29,
   "id": "bc5b8eeb-a4ec-46f4-b9b3-56de82e36528",
   "metadata": {},
   "outputs": [
    {
     "data": {
      "image/png": "[encoded data removed]",
      "text/plain": [
       "<Figure size 1000x600 with 1 Axes>"
      ]
     },
     "metadata": {},
     "output_type": "display_data"
    }
   ],
   "source": [
    "# Scatter plot: Зависимость score от длины документа\n",
    "plt.figure(figsize=(10, 6))\n",
    "plt.scatter(data = doc_data, x=\"document_length\", y=\"score\")\n",
    "plt.title(\"Зависимость score от длины документа\")\n",
    "plt.xlabel(\"Длина документа (символы)\")\n",
    "plt.ylabel(\"F-метрика (score)\")\n",
    "plt.tight_layout()\n",
    "plt.show()"
   ]
  },
  {
   "cell_type": "markdown",
   "id": "a227eb32-edab-4191-ba77-2118a9f1a27c",
   "metadata": {},
   "source": [
    "**Зависимость определённо есть, но имеет смысл вычислить сущности, для текстов с длиной в районе 1000, ещё раз: 'ru-1017' и 'ru-1006', чтобы точнее проследить зависимость.**"
   ]
  },
  {
   "cell_type": "markdown",
   "id": "0e0421c7-c87c-44e1-802a-86f1b484f3ef",
   "metadata": {
    "jp-MarkdownHeadingCollapsed": true
   },
   "source": [
    "## Задание 8:"
   ]
  },
  {
   "cell_type": "markdown",
   "id": "9f6f908e-6e90-46c4-9461-6c9adbfdee0c",
   "metadata": {},
   "source": [
    "**Проведите анализ ошибок. Когда модель чаще отвечает правильно, а когда ошибается? Предложите варианты, как повысить метрики.**\n",
    "\n",
    "---"
   ]
  },
  {
   "cell_type": "markdown",
   "id": "f607a241-7f40-40a8-9c74-755e61b3981b",
   "metadata": {},
   "source": [
    "* Модель отвечает правильнее, когда заставляешь её несколько раз проанализировать текст(изначально выдаёт только 5 ответов или вообще говорит, что в тексте нет сущностей, хотя может это у меня так).\n",
    "* Попробовав подходы с прикреплением и без прикрепления файла, улучшения не обнаружил.\n",
    "\n",
    "---\n",
    "\n",
    "* Вероятно есть **проблема в промпте**, модель путается в брендах и организациях, путает GPE и LOC.\n",
    "* Для того, чтобы получить ответы приближенные к тем, что описаны в работе, необходимо точнее указать классификации для категорий сущностей, например отправив на анализ ему [\"гайд\"](https://bsnlp.cs.helsinki.fi/bsnlp-2019/Guidelines_20190122.pdf), но он принимает только один файл и не может пользоваться информацией из разных чатов, а описание в этом гайде очень подробное и не влезет в запрос. Я попросил сделать самари по каждой сущности gpt и вставил его в промпт, но, как видим, сильно ничего не изменилось.\n",
    "\n",
    "---\n",
    "\n",
    "Общее решение, состоит в том, чтобы показать LLM текст и размеченный файл(чем больше, тем лучше), а потом попросить выполнить эту задачу для другого текста без подсказок."
   ]
  },
  {
   "cell_type": "markdown",
   "id": "67038ebd-0448-4db0-875a-e5cb11afe5d4",
   "metadata": {
    "jp-MarkdownHeadingCollapsed": true
   },
   "source": [
    "## Задание 9:"
   ]
  },
  {
   "cell_type": "markdown",
   "id": "653f5559-1325-494c-a095-4515fb7fff96",
   "metadata": {},
   "source": [
    "**Сделайте выводы по всему исследованию. Напишите, чему научились и что нового попробовали.**\n",
    "\n",
    "---"
   ]
  },
  {
   "cell_type": "markdown",
   "id": "c1d3523c-745d-49f1-8c1a-fbe29139e04d",
   "metadata": {},
   "source": [
    "В целом, если ещё поработать над запросами, тем самым повысить метрики, используя API, можно обращаться к gigachat для решения задач распознавания именованных сущностей. Уже сейчас, в целом, можно просить его распознавать личности в тексте.\n",
    "\n",
    "---\n",
    "\n",
    "До выполнения этой задачи, я не знал о распознавании именованных сущностей, конечно я знал, что есть такие заачи и что они решаются, но не знал подробностей.\n",
    "\n",
    "<br>По итогу я научился решать NER задачи с помощью LLM(оказывается не нужно строить самописную модель через spaCy, если задача небольшая), параллельно попрактиковав промптинг, а также оценивать решения, применив векторизацию оказался в замешательстве :))\n",
    "\n",
    "<br>Изучил различные этапы(пайплайн) решения таких задач: необходимость использования явно определённого способа классификации каждой сущности, предобработку текста(удаление всяких ссылок и т.п.) и запроса, последующую загрузку ответов, анализ и выявление зависимостей, в т.ч. для улучшения работы модели."
   ]
  },
  {
   "cell_type": "markdown",
   "id": "5d397cde-7b33-4e0e-8f0a-ce58211b4e6b",
   "metadata": {},
   "source": [
    "## Выгрузка фрейма с предсказаниями модели:"
   ]
  },
  {
   "cell_type": "code",
   "execution_count": 34,
   "id": "366fbdd7-4de6-4996-b4ab-80b4146a1c1c",
   "metadata": {},
   "outputs": [],
   "source": [
    "df.to_csv(\"giga-output.csv\", encoding='utf-8')"
   ]
  }
 ],
 "metadata": {
  "kernelspec": {
   "display_name": "Python 3 (ipykernel)",
   "language": "python",
   "name": "python3"
  },
  "language_info": {
   "codemirror_mode": {
    "name": "ipython",
    "version": 3
   },
   "file_extension": ".py",
   "mimetype": "text/x-python",
   "name": "python",
   "nbconvert_exporter": "python",
   "pygments_lexer": "ipython3",
   "version": "3.13.0"
  }
 },
 "nbformat": 4,
 "nbformat_minor": 5
}
